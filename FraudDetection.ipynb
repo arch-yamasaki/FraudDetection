{
  "nbformat": 4,
  "nbformat_minor": 0,
  "metadata": {
    "colab": {
      "name": "FraudDetection.ipynb",
      "version": "0.3.2",
      "provenance": [],
      "include_colab_link": true
    },
    "kernelspec": {
      "name": "python3",
      "display_name": "Python 3"
    }
  },
  "cells": [
    {
      "cell_type": "markdown",
      "metadata": {
        "id": "view-in-github",
        "colab_type": "text"
      },
      "source": [
        "<a href=\"https://colab.research.google.com/github/arch-yamasaki/FraudDetection/blob/master/FraudDetection.ipynb\" target=\"_parent\"><img src=\"https://colab.research.google.com/assets/colab-badge.svg\" alt=\"Open In Colab\"/></a>"
      ]
    },
    {
      "cell_type": "markdown",
      "metadata": {
        "id": "LtUuxXi-SuoU",
        "colab_type": "text"
      },
      "source": [
        "# setting"
      ]
    },
    {
      "cell_type": "code",
      "metadata": {
        "id": "nVfdtVrCSuoW",
        "colab_type": "code",
        "colab": {
          "base_uri": "https://localhost:8080/",
          "height": 34
        },
        "outputId": "28705a27-d3d3-4cbd-c985-dbfe885d802f"
      },
      "source": [
        "\n",
        "# google driveとの連携\n",
        "from google.colab import drive\n",
        "drive.mount('/gdrive')\n"
      ],
      "execution_count": 3,
      "outputs": [
        {
          "output_type": "stream",
          "text": [
            "Drive already mounted at /gdrive; to attempt to forcibly remount, call drive.mount(\"/gdrive\", force_remount=True).\n"
          ],
          "name": "stdout"
        }
      ]
    },
    {
      "cell_type": "code",
      "metadata": {
        "id": "9D_-j8gHSuoZ",
        "colab_type": "code",
        "colab": {
          "base_uri": "https://localhost:8080/",
          "height": 134
        },
        "outputId": "8094a3e4-20af-4d38-9251-3395e1ec2c60"
      },
      "source": [
        "\n",
        "# ストレージにおける、wordirの設定とmodel用pathの設定。\n",
        "import os\n",
        "os.makedirs(\"/gdrive/My Drive/Colab Notebooks/kaggle/FraudDetection/models\", exist_ok=True)\n",
        "os.makedirs(\"/gdrive/My Drive/Colab Notebooks/kaggle/FraudDetection/datas\", exist_ok=True)\n",
        "%cd  /gdrive/My Drive/Colab Notebooks/kaggle/FraudDetection/\n",
        "os.chdir(\"/gdrive/My Drive/Colab Notebooks/kaggle/FraudDetection\")\n",
        "models_dir = \"models\"\n",
        "datas_dir = \"datas\"\n",
        "\n",
        "\n",
        "# 各種ファイルのimport\n",
        "%matplotlib inline\n",
        "import numpy as np\n",
        "import pandas as pd\n",
        "import sklearn\n",
        "\n",
        "import matplotlib.pyplot as plt\n",
        "import seaborn as sns\n",
        "\n",
        "import torch\n",
        "from torch import nn\n",
        "from torch.nn import functional as F\n",
        "import torchvision\n",
        "from torch import optim\n",
        "from torchvision import datasets, transforms\n",
        "from torchvision.utils import save_image\n",
        "\n"
      ],
      "execution_count": 4,
      "outputs": [
        {
          "output_type": "error",
          "ename": "SyntaxError",
          "evalue": "ignored",
          "traceback": [
            "\u001b[0;36m  File \u001b[0;32m\"<ipython-input-4-d2145c2e2ae2>\"\u001b[0;36m, line \u001b[0;32m5\u001b[0m\n\u001b[0;31m    os.chdir(/gdrive/My Drive/Colab Notebooks/kaggle/FraudDetection)\u001b[0m\n\u001b[0m             ^\u001b[0m\n\u001b[0;31mSyntaxError\u001b[0m\u001b[0;31m:\u001b[0m invalid syntax\n"
          ]
        }
      ]
    },
    {
      "cell_type": "code",
      "metadata": {
        "id": "l1RZuLPplR95",
        "colab_type": "code",
        "colab": {}
      },
      "source": [
        ""
      ],
      "execution_count": 0,
      "outputs": []
    }
  ]
}