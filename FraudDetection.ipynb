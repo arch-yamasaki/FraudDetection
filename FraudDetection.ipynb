{
 "cells": [
  {
   "cell_type": "markdown",
   "metadata": {},
   "source": [
    "# setting"
   ]
  },
  {
   "cell_type": "code",
   "execution_count": null,
   "metadata": {},
   "outputs": [],
   "source": [
    "\n",
    "# google driveとの連携\n",
    "from google.colab import drive\n",
    "drive.mount('/gdrive')\n"
   ]
  },
  {
   "cell_type": "code",
   "execution_count": null,
   "metadata": {},
   "outputs": [],
   "source": [
    "\n",
    "# ストレージにおける、wordirの設定とmodel用pathの設定。\n",
    "import os\n",
    "os.makedirs(\"/gdrive/My Drive/Colab Notebooks/FraudDetection/models\", exist_ok=True)\n",
    "os.makedirs(\"/gdrive/My Drive/Colab Notebooks/FraudDetection/datas\", exist_ok=True)\n",
    "%cd  /gdrive/'My Drive'/'Colab Notebooks'/FraudDetection/\n",
    "os.chdir(\"/gdrive/My Drive/Colab Notebooks/FraudDetection\")\n",
    "models_dir = \"models\"\n",
    "datas_dir = \"datas\"\n",
    "\n",
    "\n",
    "# 各種ファイルのimport\n",
    "%matplotlib inline\n",
    "import numpy as np\n",
    "import pandas as pd\n",
    "import sklearn\n",
    "\n",
    "import matplotlib.pyplot as plt\n",
    "import seaborn as sns\n",
    "\n",
    "import torch\n",
    "from torch import nn\n",
    "from torch.nn import functional as F\n",
    "import torchvision\n",
    "from torch import optim\n",
    "from torchvision import datasets, transforms\n",
    "from torchvision.utils import save_image\n",
    "\n"
   ]
  }
 ],
 "metadata": {},
 "nbformat": 4,
 "nbformat_minor": 2
}