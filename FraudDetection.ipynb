{
  "nbformat": 4,
  "nbformat_minor": 0,
  "metadata": {
    "colab": {
      "name": "FraudDetection.ipynb",
      "version": "0.3.2",
      "provenance": [],
      "include_colab_link": true
    },
    "kernelspec": {
      "name": "python3",
      "display_name": "Python 3"
    }
  },
  "cells": [
    {
      "cell_type": "markdown",
      "metadata": {
        "id": "view-in-github",
        "colab_type": "text"
      },
      "source": [
        "<a href=\"https://colab.research.google.com/github/arch-yamasaki/FraudDetection/blob/master/FraudDetection.ipynb\" target=\"_parent\"><img src=\"https://colab.research.google.com/assets/colab-badge.svg\" alt=\"Open In Colab\"/></a>"
      ]
    },
    {
      "cell_type": "markdown",
      "metadata": {
        "id": "LtUuxXi-SuoU",
        "colab_type": "text"
      },
      "source": [
        "# setting"
      ]
    },
    {
      "cell_type": "code",
      "metadata": {
        "id": "nVfdtVrCSuoW",
        "colab_type": "code",
        "colab": {
          "base_uri": "https://localhost:8080/",
          "height": 34
        },
        "outputId": "28705a27-d3d3-4cbd-c985-dbfe885d802f"
      },
      "source": [
        "\n",
        "# google driveとの連携\n",
        "from google.colab import drive\n",
        "drive.mount('/gdrive')\n"
      ],
      "execution_count": 3,
      "outputs": [
        {
          "output_type": "stream",
          "text": [
            "Drive already mounted at /gdrive; to attempt to forcibly remount, call drive.mount(\"/gdrive\", force_remount=True).\n"
          ],
          "name": "stdout"
        }
      ]
    },
    {
      "cell_type": "code",
      "metadata": {
        "id": "9D_-j8gHSuoZ",
        "colab_type": "code",
        "colab": {
          "base_uri": "https://localhost:8080/",
          "height": 34
        },
        "outputId": "72b4edc6-b3b9-492e-a841-282095503703"
      },
      "source": [
        "\n",
        "# ストレージにおける、wordirの設定とmodel用pathの設定。\n",
        "import os\n",
        "os.makedirs(\"/gdrive/My Drive/Colab Notebooks/kaggle/FraudDetection/models\", exist_ok=True)\n",
        "os.makedirs(\"/gdrive/My Drive/Colab Notebooks/kaggle/FraudDetection/datas\", exist_ok=True)\n",
        "%cd  /gdrive/My Drive/Colab Notebooks/kaggle/FraudDetection/\n",
        "os.chdir(\"/gdrive/My Drive/Colab Notebooks/kaggle/FraudDetection\")\n",
        "models_dir = \"models\"\n",
        "datas_dir = \"datas\"\n",
        "\n",
        "\n",
        "# 各種ファイルのimport\n",
        "%matplotlib inline\n",
        "import numpy as np\n",
        "import pandas as pd\n",
        "import sklearn\n",
        "\n",
        "import matplotlib.pyplot as plt\n",
        "import seaborn as sns\n",
        "\n",
        "import torch\n",
        "from torch import nn\n",
        "from torch.nn import functional as F\n",
        "import torchvision\n",
        "from torch import optim\n",
        "from torchvision import datasets, transforms\n",
        "from torchvision.utils import save_image\n",
        "\n"
      ],
      "execution_count": 5,
      "outputs": [
        {
          "output_type": "stream",
          "text": [
            "/gdrive/My Drive/Colab Notebooks/kaggle/FraudDetection\n"
          ],
          "name": "stdout"
        }
      ]
    },
    {
      "cell_type": "code",
      "metadata": {
        "id": "_m_apI2VvpnE",
        "colab_type": "code",
        "colab": {
          "base_uri": "https://localhost:8080/",
          "height": 34
        },
        "outputId": "1d16e19c-5e62-4e77-e187-edfe524ee4e2"
      },
      "source": [
        "!ls -la datas"
      ],
      "execution_count": 22,
      "outputs": [
        {
          "output_type": "stream",
          "text": [
            "total 0\n"
          ],
          "name": "stdout"
        }
      ]
    },
    {
      "cell_type": "code",
      "metadata": {
        "id": "l1RZuLPplR95",
        "colab_type": "code",
        "colab": {
          "base_uri": "https://localhost:8080/",
          "height": 289
        },
        "outputId": "c97eb5a5-b48c-4dfb-885e-85d4fe201be7"
      },
      "source": [
        "# dataのインストール, 解凍, 及びdatasへの配置\n",
        "!pip isntall kaggle\n",
        "!cp ../kaggle.json /root/.kaggle\n",
        "!kaggle competitions download -c ieee-fraud-detection -p datas\n",
        "!gzip -dr datas\n",
        "# !sudo chmod -R 644 datas\n",
        "!mv ./*.csv datas\n",
        "!sudo chmod -R 755 datas"
      ],
      "execution_count": 63,
      "outputs": [
        {
          "output_type": "stream",
          "text": [
            "Archive:  datas/train_transaction.csv.zip\n",
            "  inflating: train_transaction.csv   \n",
            "\n",
            "Archive:  datas/train_identity.csv.zip\n",
            "  inflating: train_identity.csv      \n",
            "\n",
            "Archive:  datas/test_transaction.csv.zip\n",
            "  inflating: test_transaction.csv    \n",
            "\n",
            "Archive:  datas/test_identity.csv.zip\n",
            "  inflating: test_identity.csv       \n",
            "\n",
            "Archive:  datas/sample_submission.csv.zip\n",
            "  inflating: sample_submission.csv   \n",
            "\n",
            "5 archives were successfully processed.\n"
          ],
          "name": "stdout"
        }
      ]
    },
    {
      "cell_type": "code",
      "metadata": {
        "id": "zcIChY8yqE2r",
        "colab_type": "code",
        "colab": {}
      },
      "source": [
        "train_identity_df = pd.read_csv(\"datas/train_identity.csv\", engine='python')\n",
        "train_transaction_df = pd.read_csv(\"datas/train_identity.csv\", engine='python')"
      ],
      "execution_count": 0,
      "outputs": []
    },
    {
      "cell_type": "code",
      "metadata": {
        "id": "Rl7MsQNP0gBG",
        "colab_type": "code",
        "colab": {}
      },
      "source": [
        ""
      ],
      "execution_count": 0,
      "outputs": []
    }
  ]
}